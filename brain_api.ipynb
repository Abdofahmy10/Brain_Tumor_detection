{
 "cells": [
  {
   "cell_type": "code",
   "execution_count": null,
   "id": "ebc58a20",
   "metadata": {},
   "outputs": [
    {
     "name": "stdout",
     "output_type": "stream",
     "text": [
      " * Serving Flask app '__main__'\n",
      " * Debug mode: off\n"
     ]
    },
    {
     "name": "stderr",
     "output_type": "stream",
     "text": [
      "WARNING: This is a development server. Do not use it in a production deployment. Use a production WSGI server instead.\n",
      " * Running on http://127.0.0.1:5000\n",
      "Press CTRL+C to quit\n",
      "C:\\Users\\Abdo fahmy\\anaconda3\\lib\\site-packages\\keras\\utils\\image_utils.py:409: UserWarning: grayscale is deprecated. Please use color_mode = \"grayscale\"\n",
      "  warnings.warn(\n",
      "[2023-04-28 03:37:02,395] ERROR in app: Exception on /predict [POST]\n",
      "Traceback (most recent call last):\n",
      "  File \"C:\\Users\\Abdo fahmy\\anaconda3\\lib\\site-packages\\flask\\app.py\", line 2525, in wsgi_app\n",
      "    response = self.full_dispatch_request()\n",
      "  File \"C:\\Users\\Abdo fahmy\\anaconda3\\lib\\site-packages\\flask\\app.py\", line 1822, in full_dispatch_request\n",
      "    rv = self.handle_user_exception(e)\n",
      "  File \"C:\\Users\\Abdo fahmy\\anaconda3\\lib\\site-packages\\flask\\app.py\", line 1820, in full_dispatch_request\n",
      "    rv = self.dispatch_request()\n",
      "  File \"C:\\Users\\Abdo fahmy\\anaconda3\\lib\\site-packages\\flask\\app.py\", line 1796, in dispatch_request\n",
      "    return self.ensure_sync(self.view_functions[rule.endpoint])(**view_args)\n",
      "  File \"C:\\Users\\Abdo fahmy\\AppData\\Local\\Temp\\ipykernel_11164\\2276067285.py\", line 19, in predict\n",
      "    img = load_img(file.stream, target_size=(200, 200), grayscale=True)\n",
      "  File \"C:\\Users\\Abdo fahmy\\anaconda3\\lib\\site-packages\\keras\\utils\\image_utils.py\", line 425, in load_img\n",
      "    raise TypeError(\n",
      "TypeError: path should be path-like or io.BytesIO, not <class 'tempfile.SpooledTemporaryFile'>\n",
      "127.0.0.1 - - [28/Apr/2023 03:37:02] \"POST /predict HTTP/1.1\" 500 -\n"
     ]
    }
   ],
   "source": [
    "from flask import Flask, jsonify, request\n",
    "from tensorflow.keras.preprocessing.image import load_img, img_to_array\n",
    "import numpy as np\n",
    "from tensorflow.keras.models import load_model\n",
    "\n",
    "app = Flask(__name__)\n",
    "\n",
    "# Load the trained model\n",
    "new_model = load_model(\"model_weights.h5\")\n",
    "\n",
    "@app.route('/predict', methods=['POST'])\n",
    "def predict():\n",
    "    # Check if the POST request contains an image file\n",
    "    if 'image' not in request.files:\n",
    "        return jsonify({'error': 'No image file found in request'}), 400\n",
    "\n",
    "    # Load the image from the POST request\n",
    "    file = request.files['image']\n",
    "    img = load_img(file.stream, target_size=(200, 200), grayscale=True)\n",
    "\n",
    "    # Convert the image to a numpy array\n",
    "    x = img_to_array(img)\n",
    "    x = np.expand_dims(x, axis=0)\n",
    "\n",
    "    # Normalize the pixel values\n",
    "    x = x / 255.0\n",
    "\n",
    "    # Make the prediction\n",
    "    prediction = new_model.predict(x)\n",
    "\n",
    "    # Get the class label with the highest probability\n",
    "    predicted_class = np.argmax(prediction)\n",
    "\n",
    "    # Return the predicted tumor type as a JSON response\n",
    "    if predicted_class == 0:\n",
    "        tumor_type = \"Glioma\"\n",
    "    elif predicted_class == 1:\n",
    "        tumor_type = \"Meningioma\"\n",
    "    elif predicted_class == 2:\n",
    "        tumor_type = \"No tumor\"\n",
    "    elif predicted_class == 3:\n",
    "        tumor_type = \"Pituitary\"\n",
    "    else:\n",
    "        return jsonify({'error': 'Unknown class label'}), 500\n",
    "    \n",
    "    response = {'tumor_type': tumor_type}\n",
    "    return jsonify(response), 200\n",
    "\n",
    "@app.errorhandler(400)\n",
    "def bad_request(error):\n",
    "    return jsonify({'error': 'Bad request'}), 400\n",
    "\n",
    "@app.errorhandler(500)\n",
    "def internal_server_error(error):\n",
    "    return jsonify({'error': 'Internal server error'}), 500\n",
    "\n",
    "if __name__ == '__main__':\n",
    "    app.run()"
   ]
  },
  {
   "cell_type": "code",
   "execution_count": null,
   "id": "143923f6",
   "metadata": {},
   "outputs": [],
   "source": []
  }
 ],
 "metadata": {
  "kernelspec": {
   "display_name": "Python 3 (ipykernel)",
   "language": "python",
   "name": "python3"
  },
  "language_info": {
   "codemirror_mode": {
    "name": "ipython",
    "version": 3
   },
   "file_extension": ".py",
   "mimetype": "text/x-python",
   "name": "python",
   "nbconvert_exporter": "python",
   "pygments_lexer": "ipython3",
   "version": "3.10.9"
  }
 },
 "nbformat": 4,
 "nbformat_minor": 5
}
